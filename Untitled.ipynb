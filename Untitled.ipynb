{
 "cells": [
  {
   "cell_type": "code",
   "execution_count": 47,
   "id": "61419378",
   "metadata": {},
   "outputs": [],
   "source": [
    "import os\n",
    "import music21 as m21\n",
    "from IPython.display import Image"
   ]
  },
  {
   "cell_type": "code",
   "execution_count": 48,
   "id": "d0c8802c",
   "metadata": {},
   "outputs": [],
   "source": [
    "from music21 import *\n",
    "us = environment.UserSettings()\n",
    "us['musicxmlPath'] = 'C:/Program Files/MuseScore 4/bin/MuseScore4.exe'\n",
    "us['musescoreDirectPNGPath'] = 'C:/Program Files/MuseScore 4/bin/MuseScore4.exe'\n",
    "env = environment.Environment(forcePlatform='darwin')\n",
    "env['musicxmlPath'] = 'C:/Program Files/MuseScore 4/bin/MuseScore4.exe'\n",
    "env['musescoreDirectPNGPath'] = 'C:/Program Files/MuseScore 4/bin/MuseScore4.exe'"
   ]
  },
  {
   "cell_type": "code",
   "execution_count": null,
   "id": "07256c6b",
   "metadata": {},
   "outputs": [],
   "source": [
    "KERN_DATASET_PATH = 'deutschl/test'"
   ]
  },
  {
   "cell_type": "code",
   "execution_count": 59,
   "id": "4496d0bf",
   "metadata": {},
   "outputs": [],
   "source": [
    "ACCEPTABLE_DUARATIONS = [\n",
    "    0.25, # 16th note\n",
    "    0.5, # 8th note\n",
    "    0.75,\n",
    "    1.0, # quarter note\n",
    "    1.5,\n",
    "    2, # half note\n",
    "    3,\n",
    "    4 # whole note\n",
    "]"
   ]
  },
  {
   "cell_type": "code",
   "execution_count": 50,
   "id": "576c0c3a",
   "metadata": {},
   "outputs": [],
   "source": [
    "def load_songs_in_kern(dataset_path):\n",
    "    songs = []\n",
    "    for path, subdirs, files in os.walk(dataset_path):\n",
    "        for file in files:\n",
    "      \n",
    "            if file[-3:] == 'krn':\n",
    "                song = m21.converter.parse(os.path.join(path, file))\n",
    "                songs.append(song)\n",
    "    return songs"
   ]
  },
  {
   "cell_type": "code",
   "execution_count": null,
   "id": "5779060b",
   "metadata": {},
   "outputs": [],
   "source": [
    "def has_acceptable_length(song):\n",
    "    "
   ]
  },
  {
   "cell_type": "code",
   "execution_count": 51,
   "id": "57ecd54d",
   "metadata": {},
   "outputs": [],
   "source": [
    "def preprocess(dataset_path):\n",
    "    #load\n",
    "    pass\n",
    "    print(\"loading songs..\")\n",
    "    songs = load_songs_in_kern(dataset_path)\n",
    "    print(f\"Loaded {len(songs)} songs.\")\n",
    "    \n",
    "    "
   ]
  },
  {
   "cell_type": "code",
   "execution_count": 60,
   "id": "c88393ad",
   "metadata": {},
   "outputs": [
    {
     "name": "stdout",
     "output_type": "stream",
     "text": [
      "Loaded 12 songs.\n"
     ]
    }
   ],
   "source": [
    "if __name__ == \"__main__\":\n",
    "    songs = load_songs_in_kern(KERN_DATASET_PATH)\n",
    "    print(f\"Loaded {len(songs)} songs.\")\n",
    "    song = songs[0]\n",
    "    song.show('musicxml')"
   ]
  },
  {
   "cell_type": "code",
   "execution_count": null,
   "id": "ac69a0e2",
   "metadata": {},
   "outputs": [],
   "source": []
  }
 ],
 "metadata": {
  "kernelspec": {
   "display_name": "Python 3 (ipykernel)",
   "language": "python",
   "name": "python3"
  },
  "language_info": {
   "codemirror_mode": {
    "name": "ipython",
    "version": 3
   },
   "file_extension": ".py",
   "mimetype": "text/x-python",
   "name": "python",
   "nbconvert_exporter": "python",
   "pygments_lexer": "ipython3",
   "version": "3.9.7"
  }
 },
 "nbformat": 4,
 "nbformat_minor": 5
}
