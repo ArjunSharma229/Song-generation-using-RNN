{
 "cells": [
  {
   "cell_type": "code",
   "execution_count": 5,
   "id": "d434f021",
   "metadata": {},
   "outputs": [],
   "source": [
    "import os\n",
    "import music21 as m21"
   ]
  },
  {
   "cell_type": "code",
   "execution_count": 6,
   "id": "41012498",
   "metadata": {},
   "outputs": [],
   "source": [
    "KERN_DATASET_PATH = 'deutschl/test'"
   ]
  },
  {
   "cell_type": "code",
   "execution_count": 7,
   "id": "47ba02ad",
   "metadata": {},
   "outputs": [],
   "source": [
    "def load_songs_in_kern(dataset_path):\n",
    "    songs = []\n",
    "    for path, subdirs, files in os.walk(dataset_path):\n",
    "        for file in files:\n",
    "      \n",
    "            if file[-3:] == 'krn':\n",
    "                song = m21.converter.parse(os.path.join(path, file))\n",
    "                songs.append(song)\n",
    "    return songs"
   ]
  },
  {
   "cell_type": "code",
   "execution_count": 8,
   "id": "3734de20",
   "metadata": {},
   "outputs": [],
   "source": [
    "def preprocess(dataset_path):\n",
    "    #load\n",
    "    print(\"loading songs..\")\n",
    "    songs = load_songs_in_kern(dataset_path)\n",
    "    print(f\"Loaded {len(songs)} songs.\")\n",
    "    \n",
    "    "
   ]
  },
  {
   "cell_type": "code",
   "execution_count": null,
   "id": "4f70c723",
   "metadata": {},
   "outputs": [
    {
     "name": "stdout",
     "output_type": "stream",
     "text": [
      "Loaded 12 songs.\n"
     ]
    }
   ],
   "source": [
    "if __name__ == \"__main__\":\n",
    "    songs = load_songs_in_kern(KERN_DATASET_PATH)\n",
    "    print(f\"Loaded {len(songs)} songs.\")\n",
    "    song = songs[0]\n",
    "    song.show('musicxml')"
   ]
  },
  {
   "cell_type": "code",
   "execution_count": null,
   "id": "977ce68d",
   "metadata": {},
   "outputs": [],
   "source": []
  },
  {
   "cell_type": "code",
   "execution_count": null,
   "id": "3cd8bb57",
   "metadata": {},
   "outputs": [],
   "source": []
  }
 ],
 "metadata": {
  "kernelspec": {
   "display_name": "Python 3 (ipykernel)",
   "language": "python",
   "name": "python3"
  },
  "language_info": {
   "codemirror_mode": {
    "name": "ipython",
    "version": 3
   },
   "file_extension": ".py",
   "mimetype": "text/x-python",
   "name": "python",
   "nbconvert_exporter": "python",
   "pygments_lexer": "ipython3",
   "version": "3.9.7"
  }
 },
 "nbformat": 4,
 "nbformat_minor": 5
}
